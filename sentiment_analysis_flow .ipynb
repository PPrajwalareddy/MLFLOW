{
  "cells": [
    {
      "cell_type": "code",
      "execution_count": 23,
      "metadata": {
        "id": "_3i53zoDU3SO"
      },
      "outputs": [],
      "source": [
        "# Standard imports\n",
        "import numpy as np\n",
        "import pandas as pd\n",
        "import seaborn as sb\n",
        "import matplotlib.pyplot as plt\n",
        "import warnings\n",
        "warnings.filterwarnings('ignore')"
      ]
    },
    {
      "cell_type": "code",
      "execution_count": 24,
      "metadata": {
        "id": "Ph8p-OSROD8j"
      },
      "outputs": [],
      "source": [
        "#from google.colab import drive\n",
        "#drive.mount('/content/drive')"
      ]
    },
    {
      "cell_type": "code",
      "execution_count": 25,
      "metadata": {
        "colab": {
          "base_uri": "https://localhost:8080/",
          "height": 254
        },
        "id": "5dPaUhAXU3SS",
        "outputId": "ac449f13-dffe-4852-d6d5-67c7465167a5"
      },
      "outputs": [
        {
          "output_type": "execute_result",
          "data": {
            "text/plain": [
              "       reviewer_name  reviewer_rating            review_title  \\\n",
              "0       Kamal Suresh              4.0            Nice product   \n",
              "1  Flipkart Customer              1.0  Don't waste your money   \n",
              "\n",
              "                                         review_text  \\\n",
              "0  Nice product, good quality, but price is now r...   \n",
              "1  They didn't supplied Yonex Mavis 350. Outside ...   \n",
              "\n",
              "              place_of_review date_of_review  up_votes  down_votes  \\\n",
              "0  Certified Buyer, Chirakkal       Feb 2021     889.0        64.0   \n",
              "1  Certified Buyer, Hyderabad       Feb 2021     109.0         6.0   \n",
              "\n",
              "  product_name  sentiment  \n",
              "0    badminton          1  \n",
              "1    badminton          0  "
            ],
            "text/html": [
              "\n",
              "  <div id=\"df-e3aaa76c-1ef5-41f2-b8db-63089fb4c905\" class=\"colab-df-container\">\n",
              "    <div>\n",
              "<style scoped>\n",
              "    .dataframe tbody tr th:only-of-type {\n",
              "        vertical-align: middle;\n",
              "    }\n",
              "\n",
              "    .dataframe tbody tr th {\n",
              "        vertical-align: top;\n",
              "    }\n",
              "\n",
              "    .dataframe thead th {\n",
              "        text-align: right;\n",
              "    }\n",
              "</style>\n",
              "<table border=\"1\" class=\"dataframe\">\n",
              "  <thead>\n",
              "    <tr style=\"text-align: right;\">\n",
              "      <th></th>\n",
              "      <th>reviewer_name</th>\n",
              "      <th>reviewer_rating</th>\n",
              "      <th>review_title</th>\n",
              "      <th>review_text</th>\n",
              "      <th>place_of_review</th>\n",
              "      <th>date_of_review</th>\n",
              "      <th>up_votes</th>\n",
              "      <th>down_votes</th>\n",
              "      <th>product_name</th>\n",
              "      <th>sentiment</th>\n",
              "    </tr>\n",
              "  </thead>\n",
              "  <tbody>\n",
              "    <tr>\n",
              "      <th>0</th>\n",
              "      <td>Kamal Suresh</td>\n",
              "      <td>4.0</td>\n",
              "      <td>Nice product</td>\n",
              "      <td>Nice product, good quality, but price is now r...</td>\n",
              "      <td>Certified Buyer, Chirakkal</td>\n",
              "      <td>Feb 2021</td>\n",
              "      <td>889.0</td>\n",
              "      <td>64.0</td>\n",
              "      <td>badminton</td>\n",
              "      <td>1</td>\n",
              "    </tr>\n",
              "    <tr>\n",
              "      <th>1</th>\n",
              "      <td>Flipkart Customer</td>\n",
              "      <td>1.0</td>\n",
              "      <td>Don't waste your money</td>\n",
              "      <td>They didn't supplied Yonex Mavis 350. Outside ...</td>\n",
              "      <td>Certified Buyer, Hyderabad</td>\n",
              "      <td>Feb 2021</td>\n",
              "      <td>109.0</td>\n",
              "      <td>6.0</td>\n",
              "      <td>badminton</td>\n",
              "      <td>0</td>\n",
              "    </tr>\n",
              "  </tbody>\n",
              "</table>\n",
              "</div>\n",
              "    <div class=\"colab-df-buttons\">\n",
              "\n",
              "  <div class=\"colab-df-container\">\n",
              "    <button class=\"colab-df-convert\" onclick=\"convertToInteractive('df-e3aaa76c-1ef5-41f2-b8db-63089fb4c905')\"\n",
              "            title=\"Convert this dataframe to an interactive table.\"\n",
              "            style=\"display:none;\">\n",
              "\n",
              "  <svg xmlns=\"http://www.w3.org/2000/svg\" height=\"24px\" viewBox=\"0 -960 960 960\">\n",
              "    <path d=\"M120-120v-720h720v720H120Zm60-500h600v-160H180v160Zm220 220h160v-160H400v160Zm0 220h160v-160H400v160ZM180-400h160v-160H180v160Zm440 0h160v-160H620v160ZM180-180h160v-160H180v160Zm440 0h160v-160H620v160Z\"/>\n",
              "  </svg>\n",
              "    </button>\n",
              "\n",
              "  <style>\n",
              "    .colab-df-container {\n",
              "      display:flex;\n",
              "      gap: 12px;\n",
              "    }\n",
              "\n",
              "    .colab-df-convert {\n",
              "      background-color: #E8F0FE;\n",
              "      border: none;\n",
              "      border-radius: 50%;\n",
              "      cursor: pointer;\n",
              "      display: none;\n",
              "      fill: #1967D2;\n",
              "      height: 32px;\n",
              "      padding: 0 0 0 0;\n",
              "      width: 32px;\n",
              "    }\n",
              "\n",
              "    .colab-df-convert:hover {\n",
              "      background-color: #E2EBFA;\n",
              "      box-shadow: 0px 1px 2px rgba(60, 64, 67, 0.3), 0px 1px 3px 1px rgba(60, 64, 67, 0.15);\n",
              "      fill: #174EA6;\n",
              "    }\n",
              "\n",
              "    .colab-df-buttons div {\n",
              "      margin-bottom: 4px;\n",
              "    }\n",
              "\n",
              "    [theme=dark] .colab-df-convert {\n",
              "      background-color: #3B4455;\n",
              "      fill: #D2E3FC;\n",
              "    }\n",
              "\n",
              "    [theme=dark] .colab-df-convert:hover {\n",
              "      background-color: #434B5C;\n",
              "      box-shadow: 0px 1px 3px 1px rgba(0, 0, 0, 0.15);\n",
              "      filter: drop-shadow(0px 1px 2px rgba(0, 0, 0, 0.3));\n",
              "      fill: #FFFFFF;\n",
              "    }\n",
              "  </style>\n",
              "\n",
              "    <script>\n",
              "      const buttonEl =\n",
              "        document.querySelector('#df-e3aaa76c-1ef5-41f2-b8db-63089fb4c905 button.colab-df-convert');\n",
              "      buttonEl.style.display =\n",
              "        google.colab.kernel.accessAllowed ? 'block' : 'none';\n",
              "\n",
              "      async function convertToInteractive(key) {\n",
              "        const element = document.querySelector('#df-e3aaa76c-1ef5-41f2-b8db-63089fb4c905');\n",
              "        const dataTable =\n",
              "          await google.colab.kernel.invokeFunction('convertToInteractive',\n",
              "                                                    [key], {});\n",
              "        if (!dataTable) return;\n",
              "\n",
              "        const docLinkHtml = 'Like what you see? Visit the ' +\n",
              "          '<a target=\"_blank\" href=https://colab.research.google.com/notebooks/data_table.ipynb>data table notebook</a>'\n",
              "          + ' to learn more about interactive tables.';\n",
              "        element.innerHTML = '';\n",
              "        dataTable['output_type'] = 'display_data';\n",
              "        await google.colab.output.renderOutput(dataTable, element);\n",
              "        const docLink = document.createElement('div');\n",
              "        docLink.innerHTML = docLinkHtml;\n",
              "        element.appendChild(docLink);\n",
              "      }\n",
              "    </script>\n",
              "  </div>\n",
              "\n",
              "\n",
              "<div id=\"df-12b1f9e4-af7b-4520-8408-f2a9701bf423\">\n",
              "  <button class=\"colab-df-quickchart\" onclick=\"quickchart('df-12b1f9e4-af7b-4520-8408-f2a9701bf423')\"\n",
              "            title=\"Suggest charts\"\n",
              "            style=\"display:none;\">\n",
              "\n",
              "<svg xmlns=\"http://www.w3.org/2000/svg\" height=\"24px\"viewBox=\"0 0 24 24\"\n",
              "     width=\"24px\">\n",
              "    <g>\n",
              "        <path d=\"M19 3H5c-1.1 0-2 .9-2 2v14c0 1.1.9 2 2 2h14c1.1 0 2-.9 2-2V5c0-1.1-.9-2-2-2zM9 17H7v-7h2v7zm4 0h-2V7h2v10zm4 0h-2v-4h2v4z\"/>\n",
              "    </g>\n",
              "</svg>\n",
              "  </button>\n",
              "\n",
              "<style>\n",
              "  .colab-df-quickchart {\n",
              "      --bg-color: #E8F0FE;\n",
              "      --fill-color: #1967D2;\n",
              "      --hover-bg-color: #E2EBFA;\n",
              "      --hover-fill-color: #174EA6;\n",
              "      --disabled-fill-color: #AAA;\n",
              "      --disabled-bg-color: #DDD;\n",
              "  }\n",
              "\n",
              "  [theme=dark] .colab-df-quickchart {\n",
              "      --bg-color: #3B4455;\n",
              "      --fill-color: #D2E3FC;\n",
              "      --hover-bg-color: #434B5C;\n",
              "      --hover-fill-color: #FFFFFF;\n",
              "      --disabled-bg-color: #3B4455;\n",
              "      --disabled-fill-color: #666;\n",
              "  }\n",
              "\n",
              "  .colab-df-quickchart {\n",
              "    background-color: var(--bg-color);\n",
              "    border: none;\n",
              "    border-radius: 50%;\n",
              "    cursor: pointer;\n",
              "    display: none;\n",
              "    fill: var(--fill-color);\n",
              "    height: 32px;\n",
              "    padding: 0;\n",
              "    width: 32px;\n",
              "  }\n",
              "\n",
              "  .colab-df-quickchart:hover {\n",
              "    background-color: var(--hover-bg-color);\n",
              "    box-shadow: 0 1px 2px rgba(60, 64, 67, 0.3), 0 1px 3px 1px rgba(60, 64, 67, 0.15);\n",
              "    fill: var(--button-hover-fill-color);\n",
              "  }\n",
              "\n",
              "  .colab-df-quickchart-complete:disabled,\n",
              "  .colab-df-quickchart-complete:disabled:hover {\n",
              "    background-color: var(--disabled-bg-color);\n",
              "    fill: var(--disabled-fill-color);\n",
              "    box-shadow: none;\n",
              "  }\n",
              "\n",
              "  .colab-df-spinner {\n",
              "    border: 2px solid var(--fill-color);\n",
              "    border-color: transparent;\n",
              "    border-bottom-color: var(--fill-color);\n",
              "    animation:\n",
              "      spin 1s steps(1) infinite;\n",
              "  }\n",
              "\n",
              "  @keyframes spin {\n",
              "    0% {\n",
              "      border-color: transparent;\n",
              "      border-bottom-color: var(--fill-color);\n",
              "      border-left-color: var(--fill-color);\n",
              "    }\n",
              "    20% {\n",
              "      border-color: transparent;\n",
              "      border-left-color: var(--fill-color);\n",
              "      border-top-color: var(--fill-color);\n",
              "    }\n",
              "    30% {\n",
              "      border-color: transparent;\n",
              "      border-left-color: var(--fill-color);\n",
              "      border-top-color: var(--fill-color);\n",
              "      border-right-color: var(--fill-color);\n",
              "    }\n",
              "    40% {\n",
              "      border-color: transparent;\n",
              "      border-right-color: var(--fill-color);\n",
              "      border-top-color: var(--fill-color);\n",
              "    }\n",
              "    60% {\n",
              "      border-color: transparent;\n",
              "      border-right-color: var(--fill-color);\n",
              "    }\n",
              "    80% {\n",
              "      border-color: transparent;\n",
              "      border-right-color: var(--fill-color);\n",
              "      border-bottom-color: var(--fill-color);\n",
              "    }\n",
              "    90% {\n",
              "      border-color: transparent;\n",
              "      border-bottom-color: var(--fill-color);\n",
              "    }\n",
              "  }\n",
              "</style>\n",
              "\n",
              "  <script>\n",
              "    async function quickchart(key) {\n",
              "      const quickchartButtonEl =\n",
              "        document.querySelector('#' + key + ' button');\n",
              "      quickchartButtonEl.disabled = true;  // To prevent multiple clicks.\n",
              "      quickchartButtonEl.classList.add('colab-df-spinner');\n",
              "      try {\n",
              "        const charts = await google.colab.kernel.invokeFunction(\n",
              "            'suggestCharts', [key], {});\n",
              "      } catch (error) {\n",
              "        console.error('Error during call to suggestCharts:', error);\n",
              "      }\n",
              "      quickchartButtonEl.classList.remove('colab-df-spinner');\n",
              "      quickchartButtonEl.classList.add('colab-df-quickchart-complete');\n",
              "    }\n",
              "    (() => {\n",
              "      let quickchartButtonEl =\n",
              "        document.querySelector('#df-12b1f9e4-af7b-4520-8408-f2a9701bf423 button');\n",
              "      quickchartButtonEl.style.display =\n",
              "        google.colab.kernel.accessAllowed ? 'block' : 'none';\n",
              "    })();\n",
              "  </script>\n",
              "</div>\n",
              "\n",
              "    </div>\n",
              "  </div>\n"
            ],
            "application/vnd.google.colaboratory.intrinsic+json": {
              "type": "dataframe",
              "variable_name": "df",
              "summary": "{\n  \"name\": \"df\",\n  \"rows\": 10755,\n  \"fields\": [\n    {\n      \"column\": \"reviewer_name\",\n      \"properties\": {\n        \"dtype\": \"string\",\n        \"num_unique_values\": 7707,\n        \"samples\": [\n          \"Parthiban Easwaran\",\n          \"A S KIRAN KUMAR\",\n          \"Abora\"\n        ],\n        \"semantic_type\": \"\",\n        \"description\": \"\"\n      }\n    },\n    {\n      \"column\": \"reviewer_rating\",\n      \"properties\": {\n        \"dtype\": \"number\",\n        \"std\": 1.1745350295007766,\n        \"min\": 1.0,\n        \"max\": 5.0,\n        \"num_unique_values\": 5,\n        \"samples\": [\n          1.0,\n          2.0,\n          3.0\n        ],\n        \"semantic_type\": \"\",\n        \"description\": \"\"\n      }\n    },\n    {\n      \"column\": \"review_title\",\n      \"properties\": {\n        \"dtype\": \"category\",\n        \"num_unique_values\": 197,\n        \"samples\": [\n          \"A+\",\n          \"Genuine product\",\n          \"Awesome\"\n        ],\n        \"semantic_type\": \"\",\n        \"description\": \"\"\n      }\n    },\n    {\n      \"column\": \"review_text\",\n      \"properties\": {\n        \"dtype\": \"string\",\n        \"num_unique_values\": 6048,\n        \"samples\": [\n          \"good one.READ MORE\",\n          \"I am regularly playing with mavis 350, it is durable and good, cost effective, it lasts for 8 to 10 gamesREAD MORE\",\n          \"Within 48 hrs delivered good productREAD MORE\"\n        ],\n        \"semantic_type\": \"\",\n        \"description\": \"\"\n      }\n    },\n    {\n      \"column\": \"place_of_review\",\n      \"properties\": {\n        \"dtype\": \"category\",\n        \"num_unique_values\": 2783,\n        \"samples\": [\n          \"Certified Buyer, Bhadrari Kothagudem District\",\n          \"Certified Buyer, Mehsi\",\n          \"Certified Buyer, Chandpur North Twenty Four Parganas District\"\n        ],\n        \"semantic_type\": \"\",\n        \"description\": \"\"\n      }\n    },\n    {\n      \"column\": \"date_of_review\",\n      \"properties\": {\n        \"dtype\": \"category\",\n        \"num_unique_values\": 1586,\n        \"samples\": [\n          \"Jincy Prameesh\",\n          \"Saksham Singh\",\n          \"Poonam  Gore \"\n        ],\n        \"semantic_type\": \"\",\n        \"description\": \"\"\n      }\n    },\n    {\n      \"column\": \"up_votes\",\n      \"properties\": {\n        \"dtype\": \"number\",\n        \"std\": 12.65685931089994,\n        \"min\": 0.0,\n        \"max\": 889.0,\n        \"num_unique_values\": 61,\n        \"samples\": [\n          889.0,\n          173.0,\n          284.0\n        ],\n        \"semantic_type\": \"\",\n        \"description\": \"\"\n      }\n    },\n    {\n      \"column\": \"down_votes\",\n      \"properties\": {\n        \"dtype\": \"number\",\n        \"std\": 3.6338620040848637,\n        \"min\": 0.0,\n        \"max\": 219.0,\n        \"num_unique_values\": 37,\n        \"samples\": [\n          8.0,\n          29.0,\n          24.0\n        ],\n        \"semantic_type\": \"\",\n        \"description\": \"\"\n      }\n    },\n    {\n      \"column\": \"product_name\",\n      \"properties\": {\n        \"dtype\": \"category\",\n        \"num_unique_values\": 3,\n        \"samples\": [\n          \"badminton\",\n          \"tawa\",\n          \"tea\"\n        ],\n        \"semantic_type\": \"\",\n        \"description\": \"\"\n      }\n    },\n    {\n      \"column\": \"sentiment\",\n      \"properties\": {\n        \"dtype\": \"number\",\n        \"std\": 0,\n        \"min\": 0,\n        \"max\": 1,\n        \"num_unique_values\": 2,\n        \"samples\": [\n          0,\n          1\n        ],\n        \"semantic_type\": \"\",\n        \"description\": \"\"\n      }\n    }\n  ]\n}"
            }
          },
          "metadata": {},
          "execution_count": 25
        }
      ],
      "source": [
        "df=pd.read_csv('/content/drive/MyDrive/Dataset/product_reviews.csv')\n",
        "df.head(2)"
      ]
    },
    {
      "cell_type": "code",
      "execution_count": 26,
      "metadata": {
        "id": "CyTQlmN-U3SV"
      },
      "outputs": [],
      "source": [
        "from sklearn.model_selection import train_test_split\n",
        "\n",
        "# Split Data\n",
        "X = df['review_text']\n",
        "y = df['sentiment']\n",
        "\n",
        "X_train, X_test, y_train, y_test = train_test_split(X,y,test_size = 0.2, random_state=0)"
      ]
    },
    {
      "cell_type": "code",
      "execution_count": 27,
      "metadata": {
        "colab": {
          "base_uri": "https://localhost:8080/"
        },
        "id": "sihAFXb5U3SW",
        "outputId": "d41925da-3cd7-4fa7-9b49-51aec083c5ea"
      },
      "outputs": [
        {
          "output_type": "stream",
          "name": "stdout",
          "text": [
            "(8604,) (2151,)\n"
          ]
        }
      ],
      "source": [
        "print(X_train.shape, X_test.shape)"
      ]
    },
    {
      "cell_type": "code",
      "execution_count": 28,
      "metadata": {
        "colab": {
          "base_uri": "https://localhost:8080/"
        },
        "id": "J4nDzgWcVQIR",
        "outputId": "7cc88446-f207-475f-b715-ca63fa035e00"
      },
      "outputs": [
        {
          "output_type": "stream",
          "name": "stdout",
          "text": [
            "Requirement already satisfied: mlflow in /usr/local/lib/python3.10/dist-packages (2.12.1)\n",
            "Requirement already satisfied: Flask<4 in /usr/local/lib/python3.10/dist-packages (from mlflow) (2.2.5)\n",
            "Requirement already satisfied: alembic!=1.10.0,<2 in /usr/local/lib/python3.10/dist-packages (from mlflow) (1.13.1)\n",
            "Requirement already satisfied: click<9,>=7.0 in /usr/local/lib/python3.10/dist-packages (from mlflow) (8.1.7)\n",
            "Requirement already satisfied: cloudpickle<4 in /usr/local/lib/python3.10/dist-packages (from mlflow) (2.2.1)\n",
            "Requirement already satisfied: docker<8,>=4.0.0 in /usr/local/lib/python3.10/dist-packages (from mlflow) (7.0.0)\n",
            "Requirement already satisfied: entrypoints<1 in /usr/local/lib/python3.10/dist-packages (from mlflow) (0.4)\n",
            "Requirement already satisfied: gitpython<4,>=3.1.9 in /usr/local/lib/python3.10/dist-packages (from mlflow) (3.1.43)\n",
            "Requirement already satisfied: graphene<4 in /usr/local/lib/python3.10/dist-packages (from mlflow) (3.3)\n",
            "Requirement already satisfied: importlib-metadata!=4.7.0,<8,>=3.7.0 in /usr/local/lib/python3.10/dist-packages (from mlflow) (7.1.0)\n",
            "Requirement already satisfied: markdown<4,>=3.3 in /usr/local/lib/python3.10/dist-packages (from mlflow) (3.6)\n",
            "Requirement already satisfied: matplotlib<4 in /usr/local/lib/python3.10/dist-packages (from mlflow) (3.7.1)\n",
            "Requirement already satisfied: numpy<2 in /usr/local/lib/python3.10/dist-packages (from mlflow) (1.25.2)\n",
            "Requirement already satisfied: packaging<25 in /usr/local/lib/python3.10/dist-packages (from mlflow) (24.0)\n",
            "Requirement already satisfied: pandas<3 in /usr/local/lib/python3.10/dist-packages (from mlflow) (2.0.3)\n",
            "Requirement already satisfied: protobuf<6,>=3.12.0 in /usr/local/lib/python3.10/dist-packages (from mlflow) (3.20.3)\n",
            "Requirement already satisfied: pyarrow<16,>=4.0.0 in /usr/local/lib/python3.10/dist-packages (from mlflow) (14.0.2)\n",
            "Requirement already satisfied: pytz<2025 in /usr/local/lib/python3.10/dist-packages (from mlflow) (2023.4)\n",
            "Requirement already satisfied: pyyaml<7,>=5.1 in /usr/local/lib/python3.10/dist-packages (from mlflow) (6.0.1)\n",
            "Requirement already satisfied: querystring-parser<2 in /usr/local/lib/python3.10/dist-packages (from mlflow) (1.2.4)\n",
            "Requirement already satisfied: requests<3,>=2.17.3 in /usr/local/lib/python3.10/dist-packages (from mlflow) (2.31.0)\n",
            "Requirement already satisfied: scikit-learn<2 in /usr/local/lib/python3.10/dist-packages (from mlflow) (1.2.2)\n",
            "Requirement already satisfied: scipy<2 in /usr/local/lib/python3.10/dist-packages (from mlflow) (1.11.4)\n",
            "Requirement already satisfied: sqlalchemy<3,>=1.4.0 in /usr/local/lib/python3.10/dist-packages (from mlflow) (2.0.29)\n",
            "Requirement already satisfied: sqlparse<1,>=0.4.0 in /usr/local/lib/python3.10/dist-packages (from mlflow) (0.5.0)\n",
            "Requirement already satisfied: Jinja2<4,>=2.11 in /usr/local/lib/python3.10/dist-packages (from mlflow) (3.1.3)\n",
            "Requirement already satisfied: gunicorn<22 in /usr/local/lib/python3.10/dist-packages (from mlflow) (21.2.0)\n",
            "Requirement already satisfied: Mako in /usr/local/lib/python3.10/dist-packages (from alembic!=1.10.0,<2->mlflow) (1.3.3)\n",
            "Requirement already satisfied: typing-extensions>=4 in /usr/local/lib/python3.10/dist-packages (from alembic!=1.10.0,<2->mlflow) (4.11.0)\n",
            "Requirement already satisfied: urllib3>=1.26.0 in /usr/local/lib/python3.10/dist-packages (from docker<8,>=4.0.0->mlflow) (2.0.7)\n",
            "Requirement already satisfied: Werkzeug>=2.2.2 in /usr/local/lib/python3.10/dist-packages (from Flask<4->mlflow) (3.0.2)\n",
            "Requirement already satisfied: itsdangerous>=2.0 in /usr/local/lib/python3.10/dist-packages (from Flask<4->mlflow) (2.2.0)\n",
            "Requirement already satisfied: gitdb<5,>=4.0.1 in /usr/local/lib/python3.10/dist-packages (from gitpython<4,>=3.1.9->mlflow) (4.0.11)\n",
            "Requirement already satisfied: graphql-core<3.3,>=3.1 in /usr/local/lib/python3.10/dist-packages (from graphene<4->mlflow) (3.2.3)\n",
            "Requirement already satisfied: graphql-relay<3.3,>=3.1 in /usr/local/lib/python3.10/dist-packages (from graphene<4->mlflow) (3.2.0)\n",
            "Requirement already satisfied: aniso8601<10,>=8 in /usr/local/lib/python3.10/dist-packages (from graphene<4->mlflow) (9.0.1)\n",
            "Requirement already satisfied: zipp>=0.5 in /usr/local/lib/python3.10/dist-packages (from importlib-metadata!=4.7.0,<8,>=3.7.0->mlflow) (3.18.1)\n",
            "Requirement already satisfied: MarkupSafe>=2.0 in /usr/local/lib/python3.10/dist-packages (from Jinja2<4,>=2.11->mlflow) (2.1.5)\n",
            "Requirement already satisfied: contourpy>=1.0.1 in /usr/local/lib/python3.10/dist-packages (from matplotlib<4->mlflow) (1.2.1)\n",
            "Requirement already satisfied: cycler>=0.10 in /usr/local/lib/python3.10/dist-packages (from matplotlib<4->mlflow) (0.12.1)\n",
            "Requirement already satisfied: fonttools>=4.22.0 in /usr/local/lib/python3.10/dist-packages (from matplotlib<4->mlflow) (4.51.0)\n",
            "Requirement already satisfied: kiwisolver>=1.0.1 in /usr/local/lib/python3.10/dist-packages (from matplotlib<4->mlflow) (1.4.5)\n",
            "Requirement already satisfied: pillow>=6.2.0 in /usr/local/lib/python3.10/dist-packages (from matplotlib<4->mlflow) (9.4.0)\n",
            "Requirement already satisfied: pyparsing>=2.3.1 in /usr/local/lib/python3.10/dist-packages (from matplotlib<4->mlflow) (3.1.2)\n",
            "Requirement already satisfied: python-dateutil>=2.7 in /usr/local/lib/python3.10/dist-packages (from matplotlib<4->mlflow) (2.8.2)\n",
            "Requirement already satisfied: tzdata>=2022.1 in /usr/local/lib/python3.10/dist-packages (from pandas<3->mlflow) (2024.1)\n",
            "Requirement already satisfied: six in /usr/local/lib/python3.10/dist-packages (from querystring-parser<2->mlflow) (1.16.0)\n",
            "Requirement already satisfied: charset-normalizer<4,>=2 in /usr/local/lib/python3.10/dist-packages (from requests<3,>=2.17.3->mlflow) (3.3.2)\n",
            "Requirement already satisfied: idna<4,>=2.5 in /usr/local/lib/python3.10/dist-packages (from requests<3,>=2.17.3->mlflow) (3.7)\n",
            "Requirement already satisfied: certifi>=2017.4.17 in /usr/local/lib/python3.10/dist-packages (from requests<3,>=2.17.3->mlflow) (2024.2.2)\n",
            "Requirement already satisfied: joblib>=1.1.1 in /usr/local/lib/python3.10/dist-packages (from scikit-learn<2->mlflow) (1.4.0)\n",
            "Requirement already satisfied: threadpoolctl>=2.0.0 in /usr/local/lib/python3.10/dist-packages (from scikit-learn<2->mlflow) (3.4.0)\n",
            "Requirement already satisfied: greenlet!=0.4.17 in /usr/local/lib/python3.10/dist-packages (from sqlalchemy<3,>=1.4.0->mlflow) (3.0.3)\n",
            "Requirement already satisfied: smmap<6,>=3.0.1 in /usr/local/lib/python3.10/dist-packages (from gitdb<5,>=4.0.1->gitpython<4,>=3.1.9->mlflow) (5.0.1)\n",
            "Requirement already satisfied: pyngrok in /usr/local/lib/python3.10/dist-packages (7.1.6)\n",
            "Requirement already satisfied: PyYAML>=5.1 in /usr/local/lib/python3.10/dist-packages (from pyngrok) (6.0.1)\n"
          ]
        }
      ],
      "source": [
        "!pip install mlflow\n",
        "\n",
        "!pip install pyngrok"
      ]
    },
    {
      "cell_type": "code",
      "execution_count": 29,
      "metadata": {
        "colab": {
          "base_uri": "https://localhost:8080/"
        },
        "id": "cKE3T9zdWADh",
        "outputId": "ab271c40-f21f-44b6-a88b-e3d9c2b707e2"
      },
      "outputs": [
        {
          "output_type": "stream",
          "name": "stdout",
          "text": [
            "MLflow Tracking UI: NgrokTunnel: \"https://4898-34-23-203-167.ngrok-free.app\" -> \"http://localhost:5050\"\n"
          ]
        }
      ],
      "source": [
        "import os\n",
        "import mlflow\n",
        "from pyngrok import ngrok\n",
        "\n",
        "# Create the directory if it doesn't exist\n",
        "os.makedirs(\"/content/mlruns\", exist_ok=True)\n",
        "\n",
        "# Set up ngrok authtoken\n",
        "ngrok.set_auth_token(\"2fbObODvpVzGoEqtfHZFQUk4cvh_7fyrjhJU9gnywDH7Xd3vp\")\n",
        "\n",
        "# Set the MLflow tracking URI to store runs locally\n",
        "mlflow.set_tracking_uri(\"/content/mlruns\")\n",
        "\n",
        "# Start the MLflow UI on a different port\n",
        "get_ipython().system_raw(\"mlflow ui --port 5050 &\")\n",
        "\n",
        "# Tunnel to access the UI\n",
        "ngrok_url = ngrok.connect(addr=\"5050\", proto=\"http\")\n",
        "print(\"MLflow Tracking UI:\", ngrok_url)\n"
      ]
    },
    {
      "cell_type": "code",
      "execution_count": 30,
      "metadata": {
        "colab": {
          "base_uri": "https://localhost:8080/"
        },
        "id": "SFWjaU_UU3SX",
        "outputId": "39e13fb8-9c2d-4f4c-c5c0-745a241b37b8"
      },
      "outputs": [
        {
          "output_type": "execute_result",
          "data": {
            "text/plain": [
              "<Experiment: artifact_location='/content/mlruns/862844624206381041', creation_time=1714165770212, experiment_id='862844624206381041', last_update_time=1714165770212, lifecycle_stage='active', name='sentiment_prediction', tags={}>"
            ]
          },
          "metadata": {},
          "execution_count": 30
        }
      ],
      "source": [
        "mlflow.set_experiment(\"sentiment_prediction\")"
      ]
    },
    {
      "cell_type": "code",
      "execution_count": 31,
      "metadata": {
        "id": "uVSxTwmfW9aV"
      },
      "outputs": [],
      "source": [
        "#ngrok.kill()"
      ]
    },
    {
      "cell_type": "code",
      "execution_count": 32,
      "metadata": {
        "colab": {
          "base_uri": "https://localhost:8080/"
        },
        "id": "t1m8wWtcU3SZ",
        "outputId": "b8bca77c-6e24-4b38-a6a8-5357f5a5bab4"
      },
      "outputs": [
        {
          "output_type": "stream",
          "name": "stderr",
          "text": [
            "[nltk_data] Downloading package stopwords to /root/nltk_data...\n",
            "[nltk_data]   Package stopwords is already up-to-date!\n",
            "[nltk_data] Downloading package punkt to /root/nltk_data...\n",
            "[nltk_data]   Package punkt is already up-to-date!\n",
            "[nltk_data] Downloading package wordnet to /root/nltk_data...\n",
            "[nltk_data]   Package wordnet is already up-to-date!\n"
          ]
        },
        {
          "output_type": "execute_result",
          "data": {
            "text/plain": [
              "True"
            ]
          },
          "metadata": {},
          "execution_count": 32
        }
      ],
      "source": [
        "import string\n",
        "import re\n",
        "import nltk\n",
        "from nltk.tokenize import word_tokenize\n",
        "from nltk.corpus import stopwords\n",
        "from nltk.stem.porter import PorterStemmer\n",
        "from nltk.stem import WordNetLemmatizer\n",
        "nltk.download('stopwords')\n",
        "nltk.download('punkt')\n",
        "nltk.download('wordnet')"
      ]
    },
    {
      "cell_type": "code",
      "execution_count": 33,
      "metadata": {
        "id": "5Oqihp7hU3Sa"
      },
      "outputs": [],
      "source": [
        "# initialise the Stemmer\n",
        "stemmer = PorterStemmer()"
      ]
    },
    {
      "cell_type": "code",
      "execution_count": 34,
      "metadata": {
        "id": "awkvR6J4U3Sb"
      },
      "outputs": [],
      "source": [
        "# initialise Lemmatizer\n",
        "lemmatizer = WordNetLemmatizer()"
      ]
    },
    {
      "cell_type": "markdown",
      "metadata": {
        "id": "gFMmego9U3Sc"
      },
      "source": [
        "## Data Preprocessing on train data"
      ]
    },
    {
      "cell_type": "code",
      "execution_count": 35,
      "metadata": {
        "id": "PY0FCnRbU3Sd"
      },
      "outputs": [],
      "source": [
        "def preprocess(raw_text):\n",
        "\n",
        "    # Removing special characters and digits\n",
        "\n",
        "    sentence = re.sub(\"[^a-zA-Z]|READ MORE\", \" \", raw_text)\n",
        "\n",
        "    # change sentence to lower case\n",
        "    sentence = sentence.lower()\n",
        "\n",
        "    # tokenize into words\n",
        "    tokens = nltk.word_tokenize(sentence)\n",
        "\n",
        "    # Lemmatize\n",
        "    lemmatized_tokens = [lemmatizer.lemmatize(token) for token in tokens]\n",
        "\n",
        "    # Stop word removal\n",
        "    stop_words = set(stopwords.words('english'))\n",
        "    cleaned_tokens = [word for word in lemmatized_tokens if word.lower() not in stop_words]\n",
        "\n",
        "    # Join and return\n",
        "    return \" \".join(cleaned_tokens)"
      ]
    },
    {
      "cell_type": "code",
      "execution_count": 36,
      "metadata": {
        "colab": {
          "base_uri": "https://localhost:8080/",
          "height": 53
        },
        "id": "LDafO2Q6U3Sf",
        "outputId": "0bfbcadf-52f6-44f3-8ad1-8e957215339b"
      },
      "outputs": [
        {
          "output_type": "execute_result",
          "data": {
            "text/plain": [
              "'nice product good quality price rising bad sign wa affordable price especially play everyday kindly help u term price thank'"
            ],
            "application/vnd.google.colaboratory.intrinsic+json": {
              "type": "string"
            }
          },
          "metadata": {},
          "execution_count": 36
        }
      ],
      "source": [
        "# sample of processed word\n",
        "preprocess(df['review_text'][0])"
      ]
    },
    {
      "cell_type": "markdown",
      "metadata": {
        "id": "h0X1gGxIU3Sg"
      },
      "source": [
        "## Converting Text to Numerical vectors - BOW Representation"
      ]
    },
    {
      "cell_type": "code",
      "execution_count": 37,
      "metadata": {
        "colab": {
          "base_uri": "https://localhost:8080/"
        },
        "id": "B3lDiyELU3Sh",
        "outputId": "88b34b43-45ff-41fe-a640-76e24ff25df8"
      },
      "outputs": [
        {
          "output_type": "stream",
          "name": "stdout",
          "text": [
            "CPU times: user 3 µs, sys: 0 ns, total: 3 µs\n",
            "Wall time: 8.58 µs\n",
            "(8604, 2554)\n"
          ]
        }
      ],
      "source": [
        "# import feature extraction methods from sklearn\n",
        "from sklearn.feature_extraction.text import CountVectorizer\n",
        "\n",
        "# instantiate a vectorizer\n",
        "vect = CountVectorizer(preprocessor=preprocess)\n",
        "%time\n",
        "X_train_bow = vect.fit_transform(X_train)\n",
        "print(X_train_bow.shape)"
      ]
    },
    {
      "cell_type": "code",
      "execution_count": 38,
      "metadata": {
        "colab": {
          "base_uri": "https://localhost:8080/"
        },
        "id": "AC4E5wvqU3Si",
        "outputId": "0e6664b2-2909-4eec-b11e-52a346685fdf"
      },
      "outputs": [
        {
          "output_type": "stream",
          "name": "stdout",
          "text": [
            "CPU times: user 14 µs, sys: 0 ns, total: 14 µs\n",
            "Wall time: 18.4 µs\n",
            "(2151, 2554)\n"
          ]
        }
      ],
      "source": [
        "# transform testing data (using training data's features)\n",
        "%time\n",
        "X_test_bow = vect.transform(X_test)\n",
        "print(X_test_bow.shape)\n"
      ]
    },
    {
      "cell_type": "markdown",
      "metadata": {
        "id": "hWBEfLoHU3Sj"
      },
      "source": [
        "## **Auto Logging Naive Bayes Demo Experiment Run using MLFlow**\n"
      ]
    },
    {
      "cell_type": "code",
      "execution_count": 39,
      "metadata": {
        "colab": {
          "base_uri": "https://localhost:8080/"
        },
        "id": "5Bs0_XdMU3Sj",
        "outputId": "25cca3de-2166-4170-e272-cf655c75c139"
      },
      "outputs": [
        {
          "output_type": "stream",
          "name": "stdout",
          "text": [
            "CPU times: user 5 µs, sys: 0 ns, total: 5 µs\n",
            "Wall time: 9.06 µs\n"
          ]
        },
        {
          "output_type": "stream",
          "name": "stderr",
          "text": [
            "2024/04/26 21:31:43 WARNING mlflow.sklearn: Failed to log training dataset information to MLflow Tracking. Reason: 'Series' object has no attribute 'toarray'\n"
          ]
        }
      ],
      "source": [
        "# import classifier from sklearn\n",
        "from sklearn.naive_bayes import MultinomialNB\n",
        "\n",
        "nb = MultinomialNB() # instantiate a Multinomial Naive Bayes model\n",
        "\n",
        "mlflow.sklearn.autolog(max_tuning_runs=None)\n",
        "\n",
        "with mlflow.start_run() as run:\n",
        "    %time\n",
        "    nb.fit(X_train_bow, y_train) # train the model(timing it with an IPython \"magic command\")"
      ]
    },
    {
      "cell_type": "markdown",
      "metadata": {
        "id": "GvNSDeiXU3Sk"
      },
      "source": [
        "## **Create an optimal workflow**"
      ]
    },
    {
      "cell_type": "code",
      "execution_count": 40,
      "metadata": {
        "id": "7ws0EPFmU3Sk"
      },
      "outputs": [],
      "source": [
        "from sklearn.pipeline import Pipeline\n",
        "\n",
        "from sklearn.feature_extraction.text import TfidfVectorizer\n",
        "from sklearn.linear_model import LogisticRegression\n",
        "from sklearn.ensemble import  RandomForestClassifier\n",
        "\n",
        "from sklearn.model_selection import GridSearchCV"
      ]
    },
    {
      "cell_type": "code",
      "execution_count": 41,
      "metadata": {
        "colab": {
          "base_uri": "https://localhost:8080/"
        },
        "id": "BjrQ_mZIU3Sl",
        "outputId": "9cd1afe9-9a8c-4452-9b9c-357b33a250e1"
      },
      "outputs": [
        {
          "output_type": "stream",
          "name": "stderr",
          "text": [
            "2024/04/26 21:31:47 WARNING mlflow.sklearn: Unrecognized dataset type <class 'pandas.core.series.Series'>. Dataset logging skipped.\n"
          ]
        },
        {
          "output_type": "stream",
          "name": "stdout",
          "text": [
            "CPU times: user 3 µs, sys: 0 ns, total: 3 µs\n",
            "Wall time: 6.2 µs\n",
            "Fitting 5 folds for each of 6 candidates, totalling 30 fits\n"
          ]
        }
      ],
      "source": [
        "# Define the pipeline with caching\n",
        "pipe = Pipeline(\n",
        "    [\n",
        "        ('vectorization', CountVectorizer()),\n",
        "        ('nb', MultinomialNB())\n",
        "    ]\n",
        ")\n",
        "\n",
        "MAX_FEATURES = [1000, 1500, 2000]\n",
        "ALPHA = [1, 10]\n",
        "\n",
        "# Observe the Key Value Pair format\n",
        "parameter_grid = [\n",
        "    {\n",
        "        'vectorization__preprocessor': [preprocess],\n",
        "        'vectorization__max_features': MAX_FEATURES,\n",
        "        'nb__alpha': ALPHA\n",
        "    }\n",
        "]\n",
        "\n",
        "clf = GridSearchCV(\n",
        "    estimator=pipe,\n",
        "    param_grid=parameter_grid,\n",
        "    scoring='accuracy',\n",
        "    cv=5,\n",
        "    return_train_score=True,\n",
        "    verbose=1\n",
        ")\n",
        "\n",
        "# Initialize the auto logger\n",
        "# max_tuning_runs=None will make sure that all the runs are recorded.\n",
        "# By default top 5 runs will be recorded for each experiment\n",
        "mlflow.sklearn.autolog(max_tuning_runs=None)\n",
        "\n",
        "with mlflow.start_run() as run:\n",
        "    %time\n",
        "    clf.fit(X_train, y_train)"
      ]
    },
    {
      "cell_type": "code",
      "execution_count": 42,
      "metadata": {
        "colab": {
          "base_uri": "https://localhost:8080/"
        },
        "id": "ruRd2DKfU3Sm",
        "outputId": "da5bf45d-acd4-4fa0-af69-ac7bf95df3cd"
      },
      "outputs": [
        {
          "output_type": "stream",
          "name": "stdout",
          "text": [
            "CPU times: user 3 µs, sys: 0 ns, total: 3 µs\n",
            "Wall time: 6.91 µs\n"
          ]
        }
      ],
      "source": [
        "# Improving the efficiency by applying cleaning the text data before hand\n",
        "\n",
        "%time\n",
        "X_train_clean = X_train.apply(lambda raw_txt: preprocess(raw_txt))"
      ]
    },
    {
      "cell_type": "code",
      "execution_count": 43,
      "metadata": {
        "colab": {
          "base_uri": "https://localhost:8080/"
        },
        "id": "mDJmwxNTU3Sn",
        "outputId": "14b1f372-bf50-477b-df75-dc59ba9ca135"
      },
      "outputs": [
        {
          "output_type": "stream",
          "name": "stdout",
          "text": [
            "CPU times: user 3 µs, sys: 0 ns, total: 3 µs\n",
            "Wall time: 7.87 µs\n"
          ]
        }
      ],
      "source": [
        "%time\n",
        "X_test_clean = X_test.apply(lambda raw_txt: preprocess(raw_txt))"
      ]
    },
    {
      "cell_type": "markdown",
      "metadata": {
        "id": "bIhLiRSXU3Sp"
      },
      "source": [
        "## **Auto Logging All Experiment Runs using MLFlow**"
      ]
    },
    {
      "cell_type": "code",
      "execution_count": 44,
      "metadata": {
        "id": "6dIRA1eMU3Sq",
        "colab": {
          "base_uri": "https://localhost:8080/"
        },
        "outputId": "2f93e013-59b4-40a1-e72b-b07e67d548cc"
      },
      "outputs": [
        {
          "output_type": "stream",
          "name": "stdout",
          "text": [
            "********** naive_bayes **********\n"
          ]
        },
        {
          "output_type": "stream",
          "name": "stderr",
          "text": [
            "2024/04/26 21:35:18 WARNING mlflow.sklearn: Unrecognized dataset type <class 'pandas.core.series.Series'>. Dataset logging skipped.\n"
          ]
        },
        {
          "output_type": "stream",
          "name": "stdout",
          "text": [
            "CPU times: user 3 µs, sys: 0 ns, total: 3 µs\n",
            "Wall time: 6.44 µs\n",
            "Fitting 5 folds for each of 8 candidates, totalling 40 fits\n"
          ]
        },
        {
          "output_type": "stream",
          "name": "stderr",
          "text": [
            "2024/04/26 21:35:30 WARNING mlflow.sklearn: Unrecognized dataset type <class 'pandas.core.series.Series'>. Dataset logging skipped.\n"
          ]
        },
        {
          "output_type": "stream",
          "name": "stdout",
          "text": [
            "Train Score:  0.9341006445684634\n",
            "Score on Test Data:  0.9265457926545793\n",
            "********** logistic_regression **********\n",
            "CPU times: user 4 µs, sys: 0 ns, total: 4 µs\n",
            "Wall time: 5.72 µs\n",
            "Fitting 5 folds for each of 72 candidates, totalling 360 fits\n"
          ]
        },
        {
          "output_type": "stream",
          "name": "stderr",
          "text": [
            "2024/04/26 21:50:42 WARNING mlflow.sklearn: Unrecognized dataset type <class 'pandas.core.series.Series'>. Dataset logging skipped.\n"
          ]
        },
        {
          "output_type": "stream",
          "name": "stdout",
          "text": [
            "Train Score:  0.9121340351066849\n",
            "Score on Test Data:  0.905625290562529\n",
            "********** random_forest **********\n",
            "CPU times: user 3 µs, sys: 0 ns, total: 3 µs\n",
            "Wall time: 5.96 µs\n",
            "Fitting 5 folds for each of 144 candidates, totalling 720 fits\n",
            "Train Score:  0.9073692958393579\n",
            "Score on Test Data:  0.9079497907949791\n"
          ]
        }
      ],
      "source": [
        "pipelines = {\n",
        "    'naive_bayes': Pipeline([\n",
        "        ('vectorization', CountVectorizer()),\n",
        "        ('classifier', MultinomialNB())\n",
        "    ]),\n",
        "    'logistic_regression': Pipeline([\n",
        "        ('vectorization', CountVectorizer()),\n",
        "        ('classifier', LogisticRegression())\n",
        "    ]),\n",
        "    'random_forest': Pipeline([\n",
        "        ('vectorization', CountVectorizer()),\n",
        "        ('classifier', RandomForestClassifier())\n",
        "    ])\n",
        "}\n",
        "\n",
        "# Define parameter grid for each algorithm\n",
        "param_grids = {\n",
        "    'naive_bayes': [\n",
        "        {\n",
        "            'vectorization': [CountVectorizer()],\n",
        "            'vectorization__max_features' : [1000, 1500, 2000, 5000],\n",
        "            'classifier__alpha' : [1, 10]\n",
        "        }\n",
        "    ],\n",
        "    'logistic_regression': [\n",
        "        {\n",
        "            'vectorization': [CountVectorizer(), TfidfVectorizer()],\n",
        "            'vectorization__max_features' : [1000, 1500, 2000, 5000],\n",
        "            'classifier__C': [0.1, 1, 10],\n",
        "            'classifier__penalty': ['elasticnet'],\n",
        "            'classifier__l1_ratio': [0.4, 0.5, 0.6],\n",
        "            'classifier__solver': ['saga'],\n",
        "            'classifier__class_weight': ['balanced'],\n",
        "        }\n",
        "    ],\n",
        "    'random_forest': [\n",
        "        {\n",
        "            'vectorization': [CountVectorizer(), TfidfVectorizer()],\n",
        "            'vectorization__max_features' : [1000, 1500, 2000, 5000],\n",
        "            'classifier__max_depth': [None, 5, 10],\n",
        "            'classifier__n_estimators': [10,20,25],\n",
        "            'classifier__min_samples_leaf': [2],\n",
        "            'classifier__bootstrap': [True,False],\n",
        "            'classifier__class_weight': ['balanced']\n",
        "        }\n",
        "    ]\n",
        "}\n",
        "\n",
        "# Perform GridSearchCV for each algorithm\n",
        "best_models = {}\n",
        "\n",
        "for algorithm in pipelines.keys():\n",
        "    print(\"*\"*10, algorithm, \"*\"*10)\n",
        "    grid_search = GridSearchCV(estimator=pipelines[algorithm],\n",
        "                               param_grid=param_grids[algorithm],\n",
        "                               cv=5,\n",
        "                               scoring='accuracy',\n",
        "                               return_train_score=True,\n",
        "                               verbose=1\n",
        "                              )\n",
        "    mlflow.sklearn.autolog(max_tuning_runs=None)\n",
        "\n",
        "    with mlflow.start_run() as run:\n",
        "        %time\n",
        "        grid_search.fit(X_train_clean, y_train)\n",
        "\n",
        "    best_models[algorithm] = grid_search.best_estimator_\n",
        "\n",
        "    print('Train Score: ', grid_search.best_score_)\n",
        "    print('Score on Test Data: ', grid_search.score(X_test_clean, y_test))"
      ]
    },
    {
      "cell_type": "code",
      "execution_count": 45,
      "metadata": {
        "id": "yLQoUyuuU3Sr"
      },
      "outputs": [],
      "source": [
        "# Stop the auto logger\n",
        "\n",
        "mlflow.sklearn.autolog(disable=True)"
      ]
    },
    {
      "cell_type": "markdown",
      "metadata": {
        "id": "UyijdvJ1U3Ss"
      },
      "source": [
        "## **Custom Experiment Tracking and Database Integration with MLFlow**"
      ]
    },
    {
      "cell_type": "code",
      "execution_count": 46,
      "metadata": {
        "id": "k3Ln6DGZU3Ss"
      },
      "outputs": [],
      "source": [
        "import time\n",
        "import joblib\n",
        "import os"
      ]
    },
    {
      "cell_type": "code",
      "execution_count": 47,
      "metadata": {
        "id": "DxAmwZNtU3St",
        "colab": {
          "base_uri": "https://localhost:8080/"
        },
        "outputId": "8419bca6-fd28-49c2-f4c8-229b90adce7d"
      },
      "outputs": [
        {
          "output_type": "stream",
          "name": "stderr",
          "text": [
            "2024/04/26 21:53:58 INFO mlflow.store.db.utils: Creating initial MLflow database tables...\n",
            "2024/04/26 21:53:58 INFO mlflow.store.db.utils: Updating database tables\n",
            "INFO  [alembic.runtime.migration] Context impl SQLiteImpl.\n",
            "INFO  [alembic.runtime.migration] Will assume non-transactional DDL.\n",
            "INFO  [alembic.runtime.migration] Running upgrade  -> 451aebb31d03, add metric step\n",
            "INFO  [alembic.runtime.migration] Running upgrade 451aebb31d03 -> 90e64c465722, migrate user column to tags\n",
            "INFO  [alembic.runtime.migration] Running upgrade 90e64c465722 -> 181f10493468, allow nulls for metric values\n",
            "INFO  [alembic.runtime.migration] Running upgrade 181f10493468 -> df50e92ffc5e, Add Experiment Tags Table\n",
            "INFO  [alembic.runtime.migration] Running upgrade df50e92ffc5e -> 7ac759974ad8, Update run tags with larger limit\n",
            "INFO  [alembic.runtime.migration] Running upgrade 7ac759974ad8 -> 89d4b8295536, create latest metrics table\n",
            "INFO  [89d4b8295536_create_latest_metrics_table_py] Migration complete!\n",
            "INFO  [alembic.runtime.migration] Running upgrade 89d4b8295536 -> 2b4d017a5e9b, add model registry tables to db\n",
            "INFO  [2b4d017a5e9b_add_model_registry_tables_to_db_py] Adding registered_models and model_versions tables to database.\n",
            "INFO  [2b4d017a5e9b_add_model_registry_tables_to_db_py] Migration complete!\n",
            "INFO  [alembic.runtime.migration] Running upgrade 2b4d017a5e9b -> cfd24bdc0731, Update run status constraint with killed\n",
            "INFO  [alembic.runtime.migration] Running upgrade cfd24bdc0731 -> 0a8213491aaa, drop_duplicate_killed_constraint\n",
            "INFO  [alembic.runtime.migration] Running upgrade 0a8213491aaa -> 728d730b5ebd, add registered model tags table\n",
            "INFO  [alembic.runtime.migration] Running upgrade 728d730b5ebd -> 27a6a02d2cf1, add model version tags table\n",
            "INFO  [alembic.runtime.migration] Running upgrade 27a6a02d2cf1 -> 84291f40a231, add run_link to model_version\n",
            "INFO  [alembic.runtime.migration] Running upgrade 84291f40a231 -> a8c4a736bde6, allow nulls for run_id\n",
            "INFO  [alembic.runtime.migration] Running upgrade a8c4a736bde6 -> 39d1c3be5f05, add_is_nan_constraint_for_metrics_tables_if_necessary\n",
            "INFO  [alembic.runtime.migration] Running upgrade 39d1c3be5f05 -> c48cb773bb87, reset_default_value_for_is_nan_in_metrics_table_for_mysql\n",
            "INFO  [alembic.runtime.migration] Running upgrade c48cb773bb87 -> bd07f7e963c5, create index on run_uuid\n",
            "INFO  [alembic.runtime.migration] Running upgrade bd07f7e963c5 -> 0c779009ac13, add deleted_time field to runs table\n",
            "INFO  [alembic.runtime.migration] Running upgrade 0c779009ac13 -> cc1f77228345, change param value length to 500\n",
            "INFO  [alembic.runtime.migration] Running upgrade cc1f77228345 -> 97727af70f4d, Add creation_time and last_update_time to experiments table\n",
            "INFO  [alembic.runtime.migration] Running upgrade 97727af70f4d -> 3500859a5d39, Add Model Aliases table\n",
            "INFO  [alembic.runtime.migration] Running upgrade 3500859a5d39 -> 7f2a7d5fae7d, add datasets inputs input_tags tables\n",
            "INFO  [alembic.runtime.migration] Running upgrade 7f2a7d5fae7d -> 2d6e25af4d3e, increase max param val length from 500 to 8000\n",
            "INFO  [alembic.runtime.migration] Running upgrade 2d6e25af4d3e -> acf3f17fdcc7, add storage location field to model versions\n",
            "INFO  [alembic.runtime.migration] Context impl SQLiteImpl.\n",
            "INFO  [alembic.runtime.migration] Will assume non-transactional DDL.\n",
            "2024/04/26 21:53:59 INFO mlflow.tracking.fluent: Experiment with name 'Sentiment Prediction' does not exist. Creating a new experiment.\n"
          ]
        },
        {
          "output_type": "stream",
          "name": "stdout",
          "text": [
            "MLflow Tracking UI: NgrokTunnel: \"https://712f-34-23-203-167.ngrok-free.app\" -> \"http://localhost:5050\"\n"
          ]
        }
      ],
      "source": [
        "# Set the MLflow tracking URI to store runs locally\n",
        "mlflow.set_tracking_uri(\"sqlite:///mlflow.db\")\n",
        "\n",
        "# Set the MLflow experiment\n",
        "mlflow.set_experiment(\"Sentiment Prediction\")\n",
        "\n",
        "# Set up ngrok authtoken\n",
        "ngrok.set_auth_token(\"2fbObODvpVzGoEqtfHZFQUk4cvh_7fyrjhJU9gnywDH7Xd3vp\")\n",
        "\n",
        "# Start the MLflow UI on a different port\n",
        "get_ipython().system_raw(\"mlflow ui --port 5050 --backend-store-uri sqlite:///mlflow.db &\")\n",
        "\n",
        "# Tunnel to access the UI\n",
        "ngrok_url = ngrok.connect(addr=\"5050\", proto=\"http\")\n",
        "print(\"MLflow Tracking UI:\", ngrok_url)"
      ]
    },
    {
      "cell_type": "code",
      "execution_count": 48,
      "metadata": {
        "id": "0zZtk1jJU3St",
        "colab": {
          "base_uri": "https://localhost:8080/"
        },
        "outputId": "c20db5d3-e592-4eda-9dfa-7b8bf1750daf"
      },
      "outputs": [
        {
          "output_type": "stream",
          "name": "stdout",
          "text": [
            "********** naive_bayes **********\n",
            "Fitting 5 folds for each of 8 candidates, totalling 40 fits\n",
            "Train Score:  0.9341006445684634\n",
            "Test Score:  0.9265457926545793\n",
            "Fit Time:  6.591938018798828\n",
            "Predict Time:  0.020749568939208984\n",
            "Model Size:  82458\n",
            "\n",
            "********** logistic_regression **********\n",
            "Fitting 5 folds for each of 72 candidates, totalling 360 fits\n",
            "Train Score:  0.9120177560369175\n",
            "Test Score:  0.905625290562529\n",
            "Fit Time:  911.0573816299438\n",
            "Predict Time:  0.018605470657348633\n",
            "Model Size:  94525\n",
            "\n",
            "********** random_forest **********\n",
            "Fitting 5 folds for each of 144 candidates, totalling 720 fits\n",
            "Train Score:  0.9079504209288812\n",
            "Test Score:  0.902835890283589\n",
            "Fit Time:  166.20816087722778\n",
            "Predict Time:  0.037503957748413086\n",
            "Model Size:  711666\n",
            "\n"
          ]
        }
      ],
      "source": [
        "os.makedirs('best_models')\n",
        "dev = \"Aminat Owodunni\"\n",
        "best_models = {}\n",
        "\n",
        "for algo in pipelines.keys():\n",
        "    print(\"*\"*10, algo, \"*\"*10)\n",
        "    grid_search = GridSearchCV(estimator=pipelines[algo],\n",
        "                               param_grid=param_grids[algo],\n",
        "                               cv=5,\n",
        "                               scoring='accuracy',\n",
        "                               return_train_score=True,\n",
        "                               verbose=1\n",
        "                              )\n",
        "\n",
        "    # Fit\n",
        "    start_fit_time = time.time()\n",
        "    grid_search.fit(X_train_clean, y_train)\n",
        "    end_fit_time = time.time()\n",
        "\n",
        "    # Predict\n",
        "    start_predict_time = time.time()\n",
        "    y_pred = grid_search.predict(X_test_clean)\n",
        "    end_predict_time = time.time()\n",
        "\n",
        "    # Saving the best model\n",
        "    joblib.dump(grid_search.best_estimator_, f'best_models/{algo}.pkl')\n",
        "    model_size = os.path.getsize(f'best_models/{algo}.pkl')\n",
        "\n",
        "    # Pring Log\n",
        "    print('Train Score: ', grid_search.best_score_)\n",
        "    print('Test Score: ', grid_search.score(X_test_clean, y_test))\n",
        "    print(\"Fit Time: \", end_fit_time - start_fit_time)\n",
        "    print(\"Predict Time: \", end_predict_time - start_predict_time)\n",
        "    print(\"Model Size: \", model_size)\n",
        "\n",
        "    print()\n",
        "\n",
        "    # Start the experiment run\n",
        "    with mlflow.start_run() as run:\n",
        "        # Log tags with mlflow.set_tag()\n",
        "        mlflow.set_tag(\"developer\", dev)\n",
        "\n",
        "        # Log Parameters with mlflow.log_param()\n",
        "        mlflow.log_param(\"algorithm\", algo)\n",
        "        mlflow.log_param(\"hyperparameter_grid\", param_grids[algo])\n",
        "        mlflow.log_param(\"best_hyperparameter\", grid_search.best_params_)\n",
        "\n",
        "        # Log Metrics with mlflow.log_metric()\n",
        "        mlflow.log_metric(\"train_score\", grid_search.best_score_)\n",
        "        mlflow.log_metric(\"test_score\", grid_search.score(X_test_clean, y_test))\n",
        "        mlflow.log_metric(\"fit_time\", end_fit_time - start_fit_time)\n",
        "        mlflow.log_metric(\"predict_time\", end_predict_time - start_predict_time)\n",
        "        mlflow.log_metric(\"model_size\", model_size)\n",
        "\n",
        "        # Log Model using mlflow.sklearn.log_model()\n",
        "        mlflow.sklearn.log_model(grid_search.best_estimator_, f\"{algo}_model\")"
      ]
    },
    {
      "cell_type": "code",
      "execution_count": 48,
      "metadata": {
        "id": "X471O3EKfC6e"
      },
      "outputs": [],
      "source": []
    }
  ],
  "metadata": {
    "colab": {
      "provenance": []
    },
    "kernelspec": {
      "display_name": "flask",
      "language": "python",
      "name": "python3"
    },
    "language_info": {
      "codemirror_mode": {
        "name": "ipython",
        "version": 3
      },
      "file_extension": ".py",
      "mimetype": "text/x-python",
      "name": "python",
      "nbconvert_exporter": "python",
      "pygments_lexer": "ipython3",
      "version": "3.10.6"
    }
  },
  "nbformat": 4,
  "nbformat_minor": 0
}